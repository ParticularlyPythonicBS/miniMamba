{
 "cells": [
  {
   "cell_type": "markdown",
   "metadata": {},
   "source": [
    "# model\n",
    "\n",
    "> Basic architecture and components of mamba"
   ]
  },
  {
   "cell_type": "code",
   "execution_count": 21,
   "metadata": {},
   "outputs": [],
   "source": [
    "#| default_exp model"
   ]
  },
  {
   "cell_type": "code",
   "execution_count": 22,
   "metadata": {},
   "outputs": [],
   "source": [
    "#| hide\n",
    "from nbdev.showdoc import *"
   ]
  },
  {
   "cell_type": "code",
   "execution_count": 23,
   "metadata": {},
   "outputs": [],
   "source": [
    "#| export\n",
    "import numpy as np\n",
    "import jax\n",
    "import jax.numpy as jnp\n",
    "import jax.numpy.linalg as jla\n",
    "import jax.scipy.signal as jss\n",
    "from jax.nn.initializers import lecun_normal, normal\n",
    "import equinox as eqx\n",
    "\n",
    "from miniMamba.modelArgs import ModelArgs"
   ]
  },
  {
   "cell_type": "code",
   "execution_count": 24,
   "metadata": {},
   "outputs": [],
   "source": [
    "#| hide\n",
    "rng = jax.random.PRNGKey(0)"
   ]
  },
  {
   "cell_type": "markdown",
   "metadata": {},
   "source": [
    "### State space models\n",
    "\n",
    "State space models(SSMs) give a mapping from a $1-D$ input $u(t)$ onto an $N-D$ latent state $x(t)$, which is then projected down a $1-D$ output $y(t)$.\n",
    "\n",
    "$$\n",
    "\\begin{aligned}\n",
    "x'(t) &= Ax(t)+ Bu(t) \\\\\n",
    "y(t) &= Cx(t) + Du(t)\n",
    "\\end{aligned}\n",
    "$$\n",
    "where $A,B,C,$ and $D$ are learnable parameters. \n",
    "\n",
    "For simplicity lets start by omitting the $D$ term. $Du$ can be viewed as an easy to compute skip connection"
   ]
  },
  {
   "cell_type": "code",
   "execution_count": 25,
   "metadata": {},
   "outputs": [],
   "source": [
    "#| export\n",
    "def random_SSM(rng, N):\n",
    "    a_r, b_r, c_r = jax.random.split(rng, 3)\n",
    "    A = jax.random.uniform(a_r, (N, N))\n",
    "    B = jax.random.uniform(b_r, (N, 1))\n",
    "    C = jax.random.uniform(c_r, (1, N))\n",
    "    return A, B, C"
   ]
  },
  {
   "cell_type": "markdown",
   "metadata": {},
   "source": [
    "To apply this SSM on a discrete sequence $(u_0,u_1,u_2,\\dots)$ instead of the continous function $u(t)$, it must be discretized with step size $\\Delta$ representing input resolution so that input $u_k:=u(k\\Delta)$\n",
    "\n",
    "This discretization can be performed by a bilinear transformation, mapping the state matrix $A$ to $\\bar{A}$.\n",
    "$$\n",
    "\\begin{aligned}\n",
    "\\bar{A} &= (I-\\Delta/2 A)^{-1}(I+\\Delta/2 A) \\\\\n",
    "\\bar{B} &= (I-\\Delta/2 A)^{-1}\\Delta B \\\\\n",
    "\\bar{C} &= C\n",
    "\\end{aligned}\n",
    "$$"
   ]
  },
  {
   "cell_type": "code",
   "execution_count": 26,
   "metadata": {},
   "outputs": [],
   "source": [
    "def discretize(A, B, C, step):\n",
    "    I = jnp.eye(A.shape[0])\n",
    "    BL = jla.inv(I - (step / 2.0) * A)\n",
    "    Ab = BL @ (I + (step / 2.0) * A)\n",
    "    Bb = (BL * step) @ B\n",
    "    return Ab, Bb, C"
   ]
  },
  {
   "cell_type": "markdown",
   "metadata": {},
   "source": [
    "Given this sequence to sequence mapping, the discrete SSM can be computed like n RNN with a recurrence relation in $x$.\n",
    "$$\n",
    "\\begin{aligned}\n",
    "x_{k} &= \\bar{A}x_{k-1} + \\bar{B}u_k \\\\\n",
    "y_k &= \\bar{C}x_k\n",
    "\\end{aligned}\n",
    "$$"
   ]
  },
  {
   "cell_type": "code",
   "execution_count": 27,
   "metadata": {},
   "outputs": [],
   "source": [
    "def scan_SSM(Ab, Bb, Cb, u, x0):\n",
    "    def step(x_k_1, u_k):\n",
    "        x_k = Ab @ x_k_1 + Bb @ u_k\n",
    "        y_k = Cb @ x_k\n",
    "        return x_k, y_k\n",
    "\n",
    "    return jax.lax.scan(step, x0, u)"
   ]
  },
  {
   "cell_type": "markdown",
   "metadata": {},
   "source": [
    "To run the SSM we first discretize and then iterate."
   ]
  },
  {
   "cell_type": "code",
   "execution_count": 28,
   "metadata": {},
   "outputs": [],
   "source": [
    "def run_SSM(A, B, C, u):\n",
    "    L = u.shape[0]\n",
    "    N = A.shape[0]\n",
    "    Ab, Bb, Cb = discretize(A, B, C, step=1.0 / L)\n",
    "\n",
    "    # Run recurrence\n",
    "    return scan_SSM(Ab, Bb, Cb, u[:, np.newaxis], np.zeros((N,)))[1]"
   ]
  },
  {
   "cell_type": "code",
   "execution_count": 29,
   "metadata": {},
   "outputs": [],
   "source": [
    "class MambaBlock(eqx.Module):\n",
    "    def __init__(self, args: ModelArgs):\n",
    "        pass\n",
    "\n",
    "    def forward(self, x):\n",
    "        pass\n",
    "\n",
    "    def ssm(self, x):\n",
    "        pass\n",
    "\n",
    "    def selective_scan(self, u, delta, A, B, C, D):\n",
    "        pass\n",
    "\n"
   ]
  },
  {
   "cell_type": "code",
   "execution_count": 30,
   "metadata": {},
   "outputs": [],
   "source": [
    "class ResidualBlock(eqx.Module):\n",
    "    def __init__(self, args: ModelArgs):\n",
    "        pass\n",
    "\n",
    "    def forward(self, x):\n",
    "        pass"
   ]
  },
  {
   "cell_type": "code",
   "execution_count": 31,
   "metadata": {},
   "outputs": [],
   "source": [
    "class Mamba(eqx.Module):\n",
    "    def __init__(self, args: ModelArgs):\n",
    "        pass\n",
    "\n",
    "    def forward(self, x):\n",
    "        pass\n",
    "\n",
    "    @staticmethod\n",
    "    def load_pretrained(pretrained_model_name: str):\n",
    "        pass"
   ]
  },
  {
   "cell_type": "code",
   "execution_count": 32,
   "metadata": {},
   "outputs": [],
   "source": [
    "#| hide\n",
    "import nbdev; nbdev.nbdev_export()"
   ]
  }
 ],
 "metadata": {
  "kernelspec": {
   "display_name": "python3",
   "language": "python",
   "name": "python3"
  },
  "language_info": {
   "codemirror_mode": {
    "name": "ipython",
    "version": 3
   },
   "file_extension": ".py",
   "mimetype": "text/x-python",
   "name": "python",
   "nbconvert_exporter": "python",
   "pygments_lexer": "ipython3",
   "version": "3.12.0"
  }
 },
 "nbformat": 4,
 "nbformat_minor": 4
}
